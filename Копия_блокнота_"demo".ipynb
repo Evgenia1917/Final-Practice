{
  "nbformat": 4,
  "nbformat_minor": 0,
  "metadata": {
    "colab": {
      "name": "Копия блокнота \"demo\"",
      "provenance": [],
      "collapsed_sections": [],
      "include_colab_link": true
    },
    "kernelspec": {
      "name": "python3",
      "display_name": "Python 3"
    },
    "language_info": {
      "name": "python"
    }
  },
  "cells": [
    {
      "cell_type": "markdown",
      "metadata": {
        "id": "view-in-github",
        "colab_type": "text"
      },
      "source": [
        "<a href=\"https://colab.research.google.com/github/Evgenia1917/Final-Practice/blob/main/%D0%9A%D0%BE%D0%BF%D0%B8%D1%8F_%D0%B1%D0%BB%D0%BE%D0%BA%D0%BD%D0%BE%D1%82%D0%B0_%22demo%22.ipynb\" target=\"_parent\"><img src=\"https://colab.research.google.com/assets/colab-badge.svg\" alt=\"Open In Colab\"/></a>"
      ]
    },
    {
      "cell_type": "markdown",
      "metadata": {
        "id": "2_WzkMB2W9D3"
      },
      "source": [
        "Устанавливаем transformers из репозитория, а также зависимости:"
      ]
    },
    {
      "cell_type": "code",
      "metadata": {
        "id": "NZ5QvLo0WvcC",
        "colab": {
          "base_uri": "https://localhost:8080/"
        },
        "outputId": "ddbfe4aa-8a9d-476a-d0cb-41eca80ba1af"
      },
      "source": [
        "!git clone https://github.com/huggingface/transformers.git"
      ],
      "execution_count": null,
      "outputs": [
        {
          "output_type": "stream",
          "text": [
            "Cloning into 'transformers'...\n",
            "remote: Enumerating objects: 78261, done.\u001b[K\n",
            "remote: Counting objects: 100% (1302/1302), done.\u001b[K\n",
            "remote: Compressing objects: 100% (802/802), done.\u001b[K\n",
            "remote: Total 78261 (delta 782), reused 889 (delta 449), pack-reused 76959\u001b[K\n",
            "Receiving objects: 100% (78261/78261), 61.16 MiB | 25.06 MiB/s, done.\n",
            "Resolving deltas: 100% (55740/55740), done.\n"
          ],
          "name": "stdout"
        }
      ]
    },
    {
      "cell_type": "code",
      "metadata": {
        "id": "QSAFeQ57W1Td",
        "colab": {
          "base_uri": "https://localhost:8080/"
        },
        "outputId": "6972ae90-639c-4262-c0b1-c571d4799138"
      },
      "source": [
        "%cd /content/transformers/\n",
        "!pip install . -q"
      ],
      "execution_count": null,
      "outputs": [
        {
          "output_type": "stream",
          "text": [
            "/content/transformers\n",
            "  Installing build dependencies ... \u001b[?25l\u001b[?25hdone\n",
            "  Getting requirements to build wheel ... \u001b[?25l\u001b[?25hdone\n",
            "    Preparing wheel metadata ... \u001b[?25l\u001b[?25hdone\n",
            "  Building wheel for transformers (PEP 517) ... \u001b[?25l\u001b[?25hdone\n"
          ],
          "name": "stdout"
        }
      ]
    },
    {
      "cell_type": "code",
      "metadata": {
        "id": "09aAj8ozW2U2"
      },
      "source": [
        "!pip install -r /content/transformers/examples/pytorch/translation/requirements.txt -q"
      ],
      "execution_count": null,
      "outputs": []
    },
    {
      "cell_type": "markdown",
      "metadata": {
        "id": "JNSdWHxiXFdv"
      },
      "source": [
        "Переходим в папку с склонированным репо:"
      ]
    },
    {
      "cell_type": "code",
      "metadata": {
        "id": "a5E94x5IW3-H",
        "colab": {
          "base_uri": "https://localhost:8080/"
        },
        "outputId": "8f9c20c4-57d2-4302-82f8-682a6a509514"
      },
      "source": [
        "%cd /content/transformers/"
      ],
      "execution_count": null,
      "outputs": [
        {
          "output_type": "stream",
          "text": [
            "/content/transformers\n"
          ],
          "name": "stdout"
        }
      ]
    },
    {
      "cell_type": "code",
      "metadata": {
        "id": "3jXuKYoIOew0",
        "colab": {
          "base_uri": "https://localhost:8080/"
        },
        "outputId": "654cb2d1-d0f7-46f8-a480-8ff6b76058fa"
      },
      "source": [
        "from google.colab import drive\n",
        "drive.mount('/content/drive')"
      ],
      "execution_count": null,
      "outputs": [
        {
          "output_type": "stream",
          "text": [
            "Mounted at /content/drive\n"
          ],
          "name": "stdout"
        }
      ]
    },
    {
      "cell_type": "markdown",
      "metadata": {
        "id": "PdnJH5huXE3z"
      },
      "source": [
        "Запускаем обучающий скрипт:"
      ]
    },
    {
      "cell_type": "code",
      "metadata": {
        "id": "X4b--uQvW6mM",
        "colab": {
          "base_uri": "https://localhost:8080/"
        },
        "outputId": "2bf46c96-a039-48d4-eb99-7966d7ac8208"
      },
      "source": [
        "!python examples/pytorch/translation/run_translation.py \\\n",
        "--model_name_or_path \"Helsinki-NLP/opus-mt-en-zh\" \\\n",
        "--do_train = True \\\n",
        "--source_lang = en \\\n",
        "--target_lang = zh \\\n",
        "--num_train_epochs = 10 \\\n",
        "--max_source_length = 512 \\\n",
        "--max_target_length  = 512 \\\n",
        "--val_max_target_length  = 512 \\\n",
        "--train_file  'https://drive.google.com/drive/my-drive/xdzlyx.com.zip' \\\n",
        "--validation_file 'https://drive.google.com/drive/my-drive/xdzlyx.com.zip' \\\n",
        "--output_dir 'https://drive.google.com/drive/my-drive/Output' \\\n",
        "--per_device_train_batch_size=4 \\\n",
        "--per_device_eval_batch_size=4 \\\n",
        "--overwrite_output_dir \\\n",
        "--pad_to_max_length False \\\n",
        "--predict_with_generate"
      ],
      "execution_count": null,
      "outputs": [
        {
          "output_type": "stream",
          "text": [
            "2021-07-13 19:01:29.436484: I tensorflow/stream_executor/platform/default/dso_loader.cc:53] Successfully opened dynamic library libcudart.so.11.0\n",
            "usage: run_translation.py [-h] --model_name_or_path MODEL_NAME_OR_PATH\n",
            "                          [--config_name CONFIG_NAME]\n",
            "                          [--tokenizer_name TOKENIZER_NAME]\n",
            "                          [--cache_dir CACHE_DIR] [--no_use_fast_tokenizer]\n",
            "                          [--use_fast_tokenizer [USE_FAST_TOKENIZER]]\n",
            "                          [--model_revision MODEL_REVISION]\n",
            "                          [--use_auth_token [USE_AUTH_TOKEN]]\n",
            "                          [--source_lang SOURCE_LANG]\n",
            "                          [--target_lang TARGET_LANG]\n",
            "                          [--dataset_name DATASET_NAME]\n",
            "                          [--dataset_config_name DATASET_CONFIG_NAME]\n",
            "                          [--train_file TRAIN_FILE]\n",
            "                          [--validation_file VALIDATION_FILE]\n",
            "                          [--test_file TEST_FILE]\n",
            "                          [--overwrite_cache [OVERWRITE_CACHE]]\n",
            "                          [--preprocessing_num_workers PREPROCESSING_NUM_WORKERS]\n",
            "                          [--max_source_length MAX_SOURCE_LENGTH]\n",
            "                          [--max_target_length MAX_TARGET_LENGTH]\n",
            "                          [--val_max_target_length VAL_MAX_TARGET_LENGTH]\n",
            "                          [--pad_to_max_length [PAD_TO_MAX_LENGTH]]\n",
            "                          [--max_train_samples MAX_TRAIN_SAMPLES]\n",
            "                          [--max_eval_samples MAX_EVAL_SAMPLES]\n",
            "                          [--max_predict_samples MAX_PREDICT_SAMPLES]\n",
            "                          [--num_beams NUM_BEAMS]\n",
            "                          [--no_ignore_pad_token_for_loss]\n",
            "                          [--ignore_pad_token_for_loss [IGNORE_PAD_TOKEN_FOR_LOSS]]\n",
            "                          [--source_prefix SOURCE_PREFIX]\n",
            "                          [--forced_bos_token FORCED_BOS_TOKEN] --output_dir\n",
            "                          OUTPUT_DIR\n",
            "                          [--overwrite_output_dir [OVERWRITE_OUTPUT_DIR]]\n",
            "                          [--do_train [DO_TRAIN]] [--do_eval [DO_EVAL]]\n",
            "                          [--do_predict [DO_PREDICT]]\n",
            "                          [--evaluation_strategy {no,steps,epoch}]\n",
            "                          [--prediction_loss_only [PREDICTION_LOSS_ONLY]]\n",
            "                          [--per_device_train_batch_size PER_DEVICE_TRAIN_BATCH_SIZE]\n",
            "                          [--per_device_eval_batch_size PER_DEVICE_EVAL_BATCH_SIZE]\n",
            "                          [--per_gpu_train_batch_size PER_GPU_TRAIN_BATCH_SIZE]\n",
            "                          [--per_gpu_eval_batch_size PER_GPU_EVAL_BATCH_SIZE]\n",
            "                          [--gradient_accumulation_steps GRADIENT_ACCUMULATION_STEPS]\n",
            "                          [--eval_accumulation_steps EVAL_ACCUMULATION_STEPS]\n",
            "                          [--learning_rate LEARNING_RATE]\n",
            "                          [--weight_decay WEIGHT_DECAY]\n",
            "                          [--adam_beta1 ADAM_BETA1] [--adam_beta2 ADAM_BETA2]\n",
            "                          [--adam_epsilon ADAM_EPSILON]\n",
            "                          [--max_grad_norm MAX_GRAD_NORM]\n",
            "                          [--num_train_epochs NUM_TRAIN_EPOCHS]\n",
            "                          [--max_steps MAX_STEPS]\n",
            "                          [--lr_scheduler_type {linear,cosine,cosine_with_restarts,polynomial,constant,constant_with_warmup}]\n",
            "                          [--warmup_ratio WARMUP_RATIO]\n",
            "                          [--warmup_steps WARMUP_STEPS]\n",
            "                          [--log_level {debug,info,warning,error,critical,passive}]\n",
            "                          [--log_level_replica {debug,info,warning,error,critical,passive}]\n",
            "                          [--no_log_on_each_node]\n",
            "                          [--log_on_each_node [LOG_ON_EACH_NODE]]\n",
            "                          [--logging_dir LOGGING_DIR]\n",
            "                          [--logging_strategy {no,steps,epoch}]\n",
            "                          [--logging_first_step [LOGGING_FIRST_STEP]]\n",
            "                          [--logging_steps LOGGING_STEPS]\n",
            "                          [--save_strategy {no,steps,epoch}]\n",
            "                          [--save_steps SAVE_STEPS]\n",
            "                          [--save_total_limit SAVE_TOTAL_LIMIT]\n",
            "                          [--save_on_each_node [SAVE_ON_EACH_NODE]]\n",
            "                          [--no_cuda [NO_CUDA]] [--seed SEED] [--fp16 [FP16]]\n",
            "                          [--fp16_opt_level FP16_OPT_LEVEL]\n",
            "                          [--fp16_backend {auto,amp,apex}]\n",
            "                          [--fp16_full_eval [FP16_FULL_EVAL]]\n",
            "                          [--local_rank LOCAL_RANK]\n",
            "                          [--tpu_num_cores TPU_NUM_CORES]\n",
            "                          [--tpu_metrics_debug [TPU_METRICS_DEBUG]]\n",
            "                          [--debug DEBUG]\n",
            "                          [--dataloader_drop_last [DATALOADER_DROP_LAST]]\n",
            "                          [--eval_steps EVAL_STEPS]\n",
            "                          [--dataloader_num_workers DATALOADER_NUM_WORKERS]\n",
            "                          [--past_index PAST_INDEX] [--run_name RUN_NAME]\n",
            "                          [--disable_tqdm DISABLE_TQDM]\n",
            "                          [--no_remove_unused_columns]\n",
            "                          [--remove_unused_columns [REMOVE_UNUSED_COLUMNS]]\n",
            "                          [--label_names LABEL_NAMES [LABEL_NAMES ...]]\n",
            "                          [--load_best_model_at_end [LOAD_BEST_MODEL_AT_END]]\n",
            "                          [--metric_for_best_model METRIC_FOR_BEST_MODEL]\n",
            "                          [--greater_is_better GREATER_IS_BETTER]\n",
            "                          [--ignore_data_skip [IGNORE_DATA_SKIP]]\n",
            "                          [--sharded_ddp SHARDED_DDP] [--deepspeed DEEPSPEED]\n",
            "                          [--label_smoothing_factor LABEL_SMOOTHING_FACTOR]\n",
            "                          [--adafactor [ADAFACTOR]]\n",
            "                          [--group_by_length [GROUP_BY_LENGTH]]\n",
            "                          [--length_column_name LENGTH_COLUMN_NAME]\n",
            "                          [--report_to REPORT_TO [REPORT_TO ...]]\n",
            "                          [--ddp_find_unused_parameters DDP_FIND_UNUSED_PARAMETERS]\n",
            "                          [--no_dataloader_pin_memory]\n",
            "                          [--dataloader_pin_memory [DATALOADER_PIN_MEMORY]]\n",
            "                          [--no_skip_memory_metrics]\n",
            "                          [--skip_memory_metrics [SKIP_MEMORY_METRICS]]\n",
            "                          [--use_legacy_prediction_loop [USE_LEGACY_PREDICTION_LOOP]]\n",
            "                          [--push_to_hub [PUSH_TO_HUB]]\n",
            "                          [--resume_from_checkpoint RESUME_FROM_CHECKPOINT]\n",
            "                          [--push_to_hub_model_id PUSH_TO_HUB_MODEL_ID]\n",
            "                          [--push_to_hub_organization PUSH_TO_HUB_ORGANIZATION]\n",
            "                          [--push_to_hub_token PUSH_TO_HUB_TOKEN]\n",
            "                          [--mp_parameters MP_PARAMETERS]\n",
            "                          [--sortish_sampler [SORTISH_SAMPLER]]\n",
            "                          [--predict_with_generate [PREDICT_WITH_GENERATE]]\n",
            "run_translation.py: error: argument --do_train: Truthy value expected: got = but expected one of yes/no, true/false, t/f, y/n, 1/0 (case insensitive).\n"
          ],
          "name": "stdout"
        }
      ]
    },
    {
      "cell_type": "code",
      "metadata": {
        "id": "ClSn4zL7YZ9R"
      },
      "source": [
        "from transformers import pipeline, AutoTokenizer,AutoModelForSeq2SeqLM"
      ],
      "execution_count": null,
      "outputs": []
    },
    {
      "cell_type": "code",
      "metadata": {
        "id": "ckoA_cCzYaop",
        "colab": {
          "base_uri": "https://localhost:8080/",
          "height": 438
        },
        "outputId": "b65254b2-eda7-415f-e87f-3f40fa1f42d9"
      },
      "source": [
        "model = AutoModelForSeq2SeqLM.from_pretrained('https://object.pouta.csc.fi/Tatoeba-MT-models/eng-zho/opus-2020-07-17.zip') # пути к нашей модели и токенайзеру\n",
        "tokenizer = AutoTokenizer.from_pretrained('./models/tokenizer/')\n",
        "text = 'Objective: To investigate the biological functions of A549 cell line by up-regulating CCL7 and explore the role of CCL7 in lung cancer metastasis.Methods：A549 cell line was infected by CCL7 overexpressing lentiviral vector.MTT，scratch test and Transwell cell invasion assay were performed.Results：MTT assay showed that CCL7 overexpression promoted proliferation of A549 cells(P<0.01).Scratch experiments showed that CCL7 can promote the migration of A549 cells(P<0.01).At the same time，Transwell chamber invasion experiments confirmed that A549 cells with overexpression of CCL7 had stronger invasive ability(P<0.05).Conclusion：The high expression of CCL7 can promote the proliferation，migration and invasion of lung cancer cells.Further research on CCL7 may provide new directions for basic research，diagnosis and treatment of lung cancer.' # текст для перевода\n",
        "translator = pipeline(\"translation_en_to_zh\", model, tokenizer) # инициализация переводчика\n",
        "translator[0]['translation_text']"
      ],
      "execution_count": null,
      "outputs": [
        {
          "output_type": "error",
          "ename": "UnicodeDecodeError",
          "evalue": "ignored",
          "traceback": [
            "\u001b[0;31m---------------------------------------------------------------------------\u001b[0m",
            "\u001b[0;31mUnicodeDecodeError\u001b[0m                        Traceback (most recent call last)",
            "\u001b[0;32m<ipython-input-48-e2f92a8559b4>\u001b[0m in \u001b[0;36m<module>\u001b[0;34m()\u001b[0m\n\u001b[0;32m----> 1\u001b[0;31m \u001b[0mmodel\u001b[0m \u001b[0;34m=\u001b[0m \u001b[0mAutoModelForSeq2SeqLM\u001b[0m\u001b[0;34m.\u001b[0m\u001b[0mfrom_pretrained\u001b[0m\u001b[0;34m(\u001b[0m\u001b[0;34m'https://object.pouta.csc.fi/Tatoeba-MT-models/eng-zho/opus-2020-07-17.zip'\u001b[0m\u001b[0;34m)\u001b[0m \u001b[0;31m# пути к нашей модели и токенайзеру\u001b[0m\u001b[0;34m\u001b[0m\u001b[0;34m\u001b[0m\u001b[0m\n\u001b[0m\u001b[1;32m      2\u001b[0m \u001b[0mtokenizer\u001b[0m \u001b[0;34m=\u001b[0m \u001b[0mAutoTokenizer\u001b[0m\u001b[0;34m.\u001b[0m\u001b[0mfrom_pretrained\u001b[0m\u001b[0;34m(\u001b[0m\u001b[0;34m'./models/tokenizer/'\u001b[0m\u001b[0;34m)\u001b[0m\u001b[0;34m\u001b[0m\u001b[0;34m\u001b[0m\u001b[0m\n\u001b[1;32m      3\u001b[0m \u001b[0mtext\u001b[0m \u001b[0;34m=\u001b[0m \u001b[0;34m'Objective: To investigate the biological functions of A549 cell line by up-regulating CCL7 and explore the role of CCL7 in lung cancer metastasis.Methods：A549 cell line was infected by CCL7 overexpressing lentiviral vector.MTT，scratch test and Transwell cell invasion assay were performed.Results：MTT assay showed that CCL7 overexpression promoted proliferation of A549 cells(P<0.01).Scratch experiments showed that CCL7 can promote the migration of A549 cells(P<0.01).At the same time，Transwell chamber invasion experiments confirmed that A549 cells with overexpression of CCL7 had stronger invasive ability(P<0.05).Conclusion：The high expression of CCL7 can promote the proliferation，migration and invasion of lung cancer cells.Further research on CCL7 may provide new directions for basic research，diagnosis and treatment of lung cancer.'\u001b[0m \u001b[0;31m# текст для перевода\u001b[0m\u001b[0;34m\u001b[0m\u001b[0;34m\u001b[0m\u001b[0m\n\u001b[1;32m      4\u001b[0m \u001b[0mtranslator\u001b[0m \u001b[0;34m=\u001b[0m \u001b[0mpipeline\u001b[0m\u001b[0;34m(\u001b[0m\u001b[0;34m\"translation_en_to_zh\"\u001b[0m\u001b[0;34m,\u001b[0m \u001b[0mmodel\u001b[0m\u001b[0;34m,\u001b[0m \u001b[0mtokenizer\u001b[0m\u001b[0;34m)\u001b[0m \u001b[0;31m# инициализация переводчика\u001b[0m\u001b[0;34m\u001b[0m\u001b[0;34m\u001b[0m\u001b[0m\n\u001b[1;32m      5\u001b[0m \u001b[0mtranslator\u001b[0m\u001b[0;34m[\u001b[0m\u001b[0;36m0\u001b[0m\u001b[0;34m]\u001b[0m\u001b[0;34m[\u001b[0m\u001b[0;34m'text'\u001b[0m\u001b[0;34m]\u001b[0m\u001b[0;34m\u001b[0m\u001b[0;34m\u001b[0m\u001b[0m\n",
            "\u001b[0;32m/usr/local/lib/python3.7/dist-packages/transformers/models/auto/auto_factory.py\u001b[0m in \u001b[0;36mfrom_pretrained\u001b[0;34m(cls, pretrained_model_name_or_path, *model_args, **kwargs)\u001b[0m\n\u001b[1;32m    377\u001b[0m         \u001b[0;32mif\u001b[0m \u001b[0;32mnot\u001b[0m \u001b[0misinstance\u001b[0m\u001b[0;34m(\u001b[0m\u001b[0mconfig\u001b[0m\u001b[0;34m,\u001b[0m \u001b[0mPretrainedConfig\u001b[0m\u001b[0;34m)\u001b[0m\u001b[0;34m:\u001b[0m\u001b[0;34m\u001b[0m\u001b[0;34m\u001b[0m\u001b[0m\n\u001b[1;32m    378\u001b[0m             config, kwargs = AutoConfig.from_pretrained(\n\u001b[0;32m--> 379\u001b[0;31m                 \u001b[0mpretrained_model_name_or_path\u001b[0m\u001b[0;34m,\u001b[0m \u001b[0mreturn_unused_kwargs\u001b[0m\u001b[0;34m=\u001b[0m\u001b[0;32mTrue\u001b[0m\u001b[0;34m,\u001b[0m \u001b[0;34m**\u001b[0m\u001b[0mkwargs\u001b[0m\u001b[0;34m\u001b[0m\u001b[0;34m\u001b[0m\u001b[0m\n\u001b[0m\u001b[1;32m    380\u001b[0m             )\n\u001b[1;32m    381\u001b[0m \u001b[0;34m\u001b[0m\u001b[0m\n",
            "\u001b[0;32m/usr/local/lib/python3.7/dist-packages/transformers/models/auto/configuration_auto.py\u001b[0m in \u001b[0;36mfrom_pretrained\u001b[0;34m(cls, pretrained_model_name_or_path, **kwargs)\u001b[0m\n\u001b[1;32m    448\u001b[0m         \"\"\"\n\u001b[1;32m    449\u001b[0m         \u001b[0mkwargs\u001b[0m\u001b[0;34m[\u001b[0m\u001b[0;34m\"_from_auto\"\u001b[0m\u001b[0;34m]\u001b[0m \u001b[0;34m=\u001b[0m \u001b[0;32mTrue\u001b[0m\u001b[0;34m\u001b[0m\u001b[0;34m\u001b[0m\u001b[0m\n\u001b[0;32m--> 450\u001b[0;31m         \u001b[0mconfig_dict\u001b[0m\u001b[0;34m,\u001b[0m \u001b[0m_\u001b[0m \u001b[0;34m=\u001b[0m \u001b[0mPretrainedConfig\u001b[0m\u001b[0;34m.\u001b[0m\u001b[0mget_config_dict\u001b[0m\u001b[0;34m(\u001b[0m\u001b[0mpretrained_model_name_or_path\u001b[0m\u001b[0;34m,\u001b[0m \u001b[0;34m**\u001b[0m\u001b[0mkwargs\u001b[0m\u001b[0;34m)\u001b[0m\u001b[0;34m\u001b[0m\u001b[0;34m\u001b[0m\u001b[0m\n\u001b[0m\u001b[1;32m    451\u001b[0m         \u001b[0;32mif\u001b[0m \u001b[0;34m\"model_type\"\u001b[0m \u001b[0;32min\u001b[0m \u001b[0mconfig_dict\u001b[0m\u001b[0;34m:\u001b[0m\u001b[0;34m\u001b[0m\u001b[0;34m\u001b[0m\u001b[0m\n\u001b[1;32m    452\u001b[0m             \u001b[0mconfig_class\u001b[0m \u001b[0;34m=\u001b[0m \u001b[0mCONFIG_MAPPING\u001b[0m\u001b[0;34m[\u001b[0m\u001b[0mconfig_dict\u001b[0m\u001b[0;34m[\u001b[0m\u001b[0;34m\"model_type\"\u001b[0m\u001b[0;34m]\u001b[0m\u001b[0;34m]\u001b[0m\u001b[0;34m\u001b[0m\u001b[0;34m\u001b[0m\u001b[0m\n",
            "\u001b[0;32m/usr/local/lib/python3.7/dist-packages/transformers/configuration_utils.py\u001b[0m in \u001b[0;36mget_config_dict\u001b[0;34m(cls, pretrained_model_name_or_path, **kwargs)\u001b[0m\n\u001b[1;32m    513\u001b[0m             )\n\u001b[1;32m    514\u001b[0m             \u001b[0;31m# Load config dict\u001b[0m\u001b[0;34m\u001b[0m\u001b[0;34m\u001b[0m\u001b[0;34m\u001b[0m\u001b[0m\n\u001b[0;32m--> 515\u001b[0;31m             \u001b[0mconfig_dict\u001b[0m \u001b[0;34m=\u001b[0m \u001b[0mcls\u001b[0m\u001b[0;34m.\u001b[0m\u001b[0m_dict_from_json_file\u001b[0m\u001b[0;34m(\u001b[0m\u001b[0mresolved_config_file\u001b[0m\u001b[0;34m)\u001b[0m\u001b[0;34m\u001b[0m\u001b[0;34m\u001b[0m\u001b[0m\n\u001b[0m\u001b[1;32m    516\u001b[0m \u001b[0;34m\u001b[0m\u001b[0m\n\u001b[1;32m    517\u001b[0m         \u001b[0;32mexcept\u001b[0m \u001b[0mEnvironmentError\u001b[0m \u001b[0;32mas\u001b[0m \u001b[0merr\u001b[0m\u001b[0;34m:\u001b[0m\u001b[0;34m\u001b[0m\u001b[0;34m\u001b[0m\u001b[0m\n",
            "\u001b[0;32m/usr/local/lib/python3.7/dist-packages/transformers/configuration_utils.py\u001b[0m in \u001b[0;36m_dict_from_json_file\u001b[0;34m(cls, json_file)\u001b[0m\n\u001b[1;32m    596\u001b[0m     \u001b[0;32mdef\u001b[0m \u001b[0m_dict_from_json_file\u001b[0m\u001b[0;34m(\u001b[0m\u001b[0mcls\u001b[0m\u001b[0;34m,\u001b[0m \u001b[0mjson_file\u001b[0m\u001b[0;34m:\u001b[0m \u001b[0mUnion\u001b[0m\u001b[0;34m[\u001b[0m\u001b[0mstr\u001b[0m\u001b[0;34m,\u001b[0m \u001b[0mos\u001b[0m\u001b[0;34m.\u001b[0m\u001b[0mPathLike\u001b[0m\u001b[0;34m]\u001b[0m\u001b[0;34m)\u001b[0m\u001b[0;34m:\u001b[0m\u001b[0;34m\u001b[0m\u001b[0;34m\u001b[0m\u001b[0m\n\u001b[1;32m    597\u001b[0m         \u001b[0;32mwith\u001b[0m \u001b[0mopen\u001b[0m\u001b[0;34m(\u001b[0m\u001b[0mjson_file\u001b[0m\u001b[0;34m,\u001b[0m \u001b[0;34m\"r\"\u001b[0m\u001b[0;34m,\u001b[0m \u001b[0mencoding\u001b[0m\u001b[0;34m=\u001b[0m\u001b[0;34m\"utf-8\"\u001b[0m\u001b[0;34m)\u001b[0m \u001b[0;32mas\u001b[0m \u001b[0mreader\u001b[0m\u001b[0;34m:\u001b[0m\u001b[0;34m\u001b[0m\u001b[0;34m\u001b[0m\u001b[0m\n\u001b[0;32m--> 598\u001b[0;31m             \u001b[0mtext\u001b[0m \u001b[0;34m=\u001b[0m \u001b[0mreader\u001b[0m\u001b[0;34m.\u001b[0m\u001b[0mread\u001b[0m\u001b[0;34m(\u001b[0m\u001b[0;34m)\u001b[0m\u001b[0;34m\u001b[0m\u001b[0;34m\u001b[0m\u001b[0m\n\u001b[0m\u001b[1;32m    599\u001b[0m         \u001b[0;32mreturn\u001b[0m \u001b[0mjson\u001b[0m\u001b[0;34m.\u001b[0m\u001b[0mloads\u001b[0m\u001b[0;34m(\u001b[0m\u001b[0mtext\u001b[0m\u001b[0;34m)\u001b[0m\u001b[0;34m\u001b[0m\u001b[0;34m\u001b[0m\u001b[0m\n\u001b[1;32m    600\u001b[0m \u001b[0;34m\u001b[0m\u001b[0m\n",
            "\u001b[0;32m/usr/lib/python3.7/codecs.py\u001b[0m in \u001b[0;36mdecode\u001b[0;34m(self, input, final)\u001b[0m\n\u001b[1;32m    320\u001b[0m         \u001b[0;31m# decode input (taking the buffer into account)\u001b[0m\u001b[0;34m\u001b[0m\u001b[0;34m\u001b[0m\u001b[0;34m\u001b[0m\u001b[0m\n\u001b[1;32m    321\u001b[0m         \u001b[0mdata\u001b[0m \u001b[0;34m=\u001b[0m \u001b[0mself\u001b[0m\u001b[0;34m.\u001b[0m\u001b[0mbuffer\u001b[0m \u001b[0;34m+\u001b[0m \u001b[0minput\u001b[0m\u001b[0;34m\u001b[0m\u001b[0;34m\u001b[0m\u001b[0m\n\u001b[0;32m--> 322\u001b[0;31m         \u001b[0;34m(\u001b[0m\u001b[0mresult\u001b[0m\u001b[0;34m,\u001b[0m \u001b[0mconsumed\u001b[0m\u001b[0;34m)\u001b[0m \u001b[0;34m=\u001b[0m \u001b[0mself\u001b[0m\u001b[0;34m.\u001b[0m\u001b[0m_buffer_decode\u001b[0m\u001b[0;34m(\u001b[0m\u001b[0mdata\u001b[0m\u001b[0;34m,\u001b[0m \u001b[0mself\u001b[0m\u001b[0;34m.\u001b[0m\u001b[0merrors\u001b[0m\u001b[0;34m,\u001b[0m \u001b[0mfinal\u001b[0m\u001b[0;34m)\u001b[0m\u001b[0;34m\u001b[0m\u001b[0;34m\u001b[0m\u001b[0m\n\u001b[0m\u001b[1;32m    323\u001b[0m         \u001b[0;31m# keep undecoded input until the next call\u001b[0m\u001b[0;34m\u001b[0m\u001b[0;34m\u001b[0m\u001b[0;34m\u001b[0m\u001b[0m\n\u001b[1;32m    324\u001b[0m         \u001b[0mself\u001b[0m\u001b[0;34m.\u001b[0m\u001b[0mbuffer\u001b[0m \u001b[0;34m=\u001b[0m \u001b[0mdata\u001b[0m\u001b[0;34m[\u001b[0m\u001b[0mconsumed\u001b[0m\u001b[0;34m:\u001b[0m\u001b[0;34m]\u001b[0m\u001b[0;34m\u001b[0m\u001b[0;34m\u001b[0m\u001b[0m\n",
            "\u001b[0;31mUnicodeDecodeError\u001b[0m: 'utf-8' codec can't decode byte 0xba in position 11: invalid start byte"
          ]
        }
      ]
    }
  ]
}